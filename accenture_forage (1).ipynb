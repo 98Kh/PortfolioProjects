{
 "cells": [
  {
   "cell_type": "markdown",
   "id": "aa26901c",
   "metadata": {},
   "source": [
    "# Introduction"
   ]
  },
  {
   "cell_type": "markdown",
   "id": "4cdd1f3a",
   "metadata": {},
   "source": [
    "Social Buzz was founded by two former engineers from a large social media conglomerate, one\n",
    "from London and the other from San Francisco. They left in 2008 and both met in San\n",
    "Francisco to start their business. They started Social Buzz because they saw an opportunity to\n",
    "build on the foundation that their previous company started by creating a new platform where\n",
    "content took center stage. Social Buzz emphasizes content by keeping all users anonymous,\n",
    "only tracking user reactions on every piece of content. There are over 100 ways that users can\n",
    "react to content, spanning beyond the traditional reactions of likes, dislikes, and comments.\n",
    "This ensures that trending content, as opposed to individual users, is at the forefront of user\n",
    "feeds.\n",
    "Over the past 5 years, Social Buzz has reached over 500 million active users each month.\n",
    "They have scaled quicker than anticipated and need the help of an advisory firm to oversee\n",
    "their scaling process effectively.\n",
    "Due to their rapid growth and digital nature of their core product, the amount of data that they\n",
    "create, collect and must analyze is huge. Every day over 100,000 pieces of content, ranging\n",
    "from text, images, videos and GIFs are posted. All of this data is highly unstructured and\n",
    "requires extremely sophisticated and expensive technology to manage and maintain. Out of the\n",
    "250 people working at Social Buzz, 200 of them are technical staff working on maintaining this\n",
    "highly complex technology.\n",
    "Up until this point, they have not relied on any third party firms to help them get to where\n",
    "they are. However there are 3 main reasons why they are now looking at bringing in external\n",
    "expertise:"
   ]
  },
  {
   "cell_type": "markdown",
   "id": "df2cc2fd",
   "metadata": {},
   "source": [
    "## Key Points"
   ]
  },
  {
   "cell_type": "markdown",
   "id": "67c7a7b3",
   "metadata": {},
   "source": [
    "- An audit of their big data practice\n",
    "- Recommendations for a successful IPO\n",
    "- An analysis of their content categories that highlights the top 5 categories with the largest aggregate popularity "
   ]
  },
  {
   "cell_type": "markdown",
   "id": "f3b13727",
   "metadata": {},
   "source": [
    "## Download the dataset\n",
    "Download packages to perform the operations\n",
    " - Download packages \n",
    " - Download the data\n",
    " - Convert CSV to access data"
   ]
  },
  {
   "cell_type": "code",
   "execution_count": 1,
   "id": "50e8a6b2",
   "metadata": {},
   "outputs": [
    {
     "name": "stdout",
     "output_type": "stream",
     "text": [
      "Requirement already satisfied: seaborn in /opt/conda/lib/python3.9/site-packages (0.11.2)\n",
      "Collecting seaborn\n",
      "  Downloading seaborn-0.12.2-py3-none-any.whl (293 kB)\n",
      "     |████████████████████████████████| 293 kB 6.0 MB/s            \n",
      "\u001b[?25hRequirement already satisfied: pandas>=0.25 in /opt/conda/lib/python3.9/site-packages (from seaborn) (1.3.4)\n",
      "Requirement already satisfied: numpy!=1.24.0,>=1.17 in /opt/conda/lib/python3.9/site-packages (from seaborn) (1.20.3)\n",
      "Requirement already satisfied: matplotlib!=3.6.1,>=3.1 in /opt/conda/lib/python3.9/site-packages (from seaborn) (3.4.3)\n",
      "Requirement already satisfied: kiwisolver>=1.0.1 in /opt/conda/lib/python3.9/site-packages (from matplotlib!=3.6.1,>=3.1->seaborn) (1.3.2)\n",
      "Requirement already satisfied: pyparsing>=2.2.1 in /opt/conda/lib/python3.9/site-packages (from matplotlib!=3.6.1,>=3.1->seaborn) (2.4.7)\n",
      "Requirement already satisfied: python-dateutil>=2.7 in /opt/conda/lib/python3.9/site-packages (from matplotlib!=3.6.1,>=3.1->seaborn) (2.8.2)\n",
      "Requirement already satisfied: pillow>=6.2.0 in /opt/conda/lib/python3.9/site-packages (from matplotlib!=3.6.1,>=3.1->seaborn) (8.3.2)\n",
      "Requirement already satisfied: cycler>=0.10 in /opt/conda/lib/python3.9/site-packages (from matplotlib!=3.6.1,>=3.1->seaborn) (0.11.0)\n",
      "Requirement already satisfied: pytz>=2017.3 in /opt/conda/lib/python3.9/site-packages (from pandas>=0.25->seaborn) (2021.3)\n",
      "Requirement already satisfied: six>=1.5 in /opt/conda/lib/python3.9/site-packages (from python-dateutil>=2.7->matplotlib!=3.6.1,>=3.1->seaborn) (1.16.0)\n",
      "Installing collected packages: seaborn\n",
      "  Attempting uninstall: seaborn\n",
      "    Found existing installation: seaborn 0.11.2\n",
      "    Uninstalling seaborn-0.11.2:\n",
      "      Successfully uninstalled seaborn-0.11.2\n",
      "Successfully installed seaborn-0.12.2\n",
      "Note: you may need to restart the kernel to use updated packages.\n"
     ]
    }
   ],
   "source": [
    "pip install -U seaborn"
   ]
  },
  {
   "cell_type": "code",
   "execution_count": 2,
   "id": "3b29208d",
   "metadata": {},
   "outputs": [],
   "source": [
    "!pip install jovian opendatasets --upgrade --quiet"
   ]
  },
  {
   "cell_type": "code",
   "execution_count": 3,
   "id": "37194c9d",
   "metadata": {},
   "outputs": [],
   "source": [
    "import os"
   ]
  },
  {
   "cell_type": "code",
   "execution_count": 4,
   "id": "0ba0134b",
   "metadata": {},
   "outputs": [],
   "source": [
    "import pandas as pd"
   ]
  },
  {
   "cell_type": "code",
   "execution_count": 5,
   "id": "76d44666",
   "metadata": {},
   "outputs": [],
   "source": [
    "#Download and import the dataset\n",
    "import opendatasets as od\n"
   ]
  },
  {
   "cell_type": "code",
   "execution_count": 30,
   "id": "a139734e",
   "metadata": {},
   "outputs": [],
   "source": [
    "data = './cleaned_data.csv'"
   ]
  },
  {
   "cell_type": "code",
   "execution_count": 31,
   "id": "237ec3f2",
   "metadata": {},
   "outputs": [
    {
     "data": {
      "text/plain": [
       "'./cleaned_data.csv'"
      ]
     },
     "execution_count": 31,
     "metadata": {},
     "output_type": "execute_result"
    }
   ],
   "source": [
    "data"
   ]
  },
  {
   "cell_type": "code",
   "execution_count": 33,
   "id": "93d4a554",
   "metadata": {},
   "outputs": [
    {
     "data": {
      "text/html": [
       "<div>\n",
       "<style scoped>\n",
       "    .dataframe tbody tr th:only-of-type {\n",
       "        vertical-align: middle;\n",
       "    }\n",
       "\n",
       "    .dataframe tbody tr th {\n",
       "        vertical-align: top;\n",
       "    }\n",
       "\n",
       "    .dataframe thead th {\n",
       "        text-align: right;\n",
       "    }\n",
       "</style>\n",
       "<table border=\"1\" class=\"dataframe\">\n",
       "  <thead>\n",
       "    <tr style=\"text-align: right;\">\n",
       "      <th></th>\n",
       "      <th>Content ID</th>\n",
       "      <th>Reaction Type</th>\n",
       "      <th>Datetime</th>\n",
       "      <th>Content Type</th>\n",
       "      <th>Category</th>\n",
       "      <th>Sentiment</th>\n",
       "      <th>Score</th>\n",
       "    </tr>\n",
       "  </thead>\n",
       "  <tbody>\n",
       "    <tr>\n",
       "      <th>0</th>\n",
       "      <td>97522e57-d9ab-4bd6-97bf-c24d952602d2</td>\n",
       "      <td>disgust</td>\n",
       "      <td>7/11/2020 9:43</td>\n",
       "      <td>photo</td>\n",
       "      <td>studying</td>\n",
       "      <td>negative</td>\n",
       "      <td>0</td>\n",
       "    </tr>\n",
       "    <tr>\n",
       "      <th>1</th>\n",
       "      <td>97522e57-d9ab-4bd6-97bf-c24d952602d2</td>\n",
       "      <td>dislike</td>\n",
       "      <td>17/6/21 12:22</td>\n",
       "      <td>photo</td>\n",
       "      <td>studying</td>\n",
       "      <td>negative</td>\n",
       "      <td>10</td>\n",
       "    </tr>\n",
       "    <tr>\n",
       "      <th>2</th>\n",
       "      <td>97522e57-d9ab-4bd6-97bf-c24d952602d2</td>\n",
       "      <td>scared</td>\n",
       "      <td>18/4/21 5:13</td>\n",
       "      <td>photo</td>\n",
       "      <td>studying</td>\n",
       "      <td>negative</td>\n",
       "      <td>15</td>\n",
       "    </tr>\n",
       "    <tr>\n",
       "      <th>3</th>\n",
       "      <td>97522e57-d9ab-4bd6-97bf-c24d952602d2</td>\n",
       "      <td>disgust</td>\n",
       "      <td>6/1/2021 19:13</td>\n",
       "      <td>photo</td>\n",
       "      <td>studying</td>\n",
       "      <td>negative</td>\n",
       "      <td>0</td>\n",
       "    </tr>\n",
       "    <tr>\n",
       "      <th>4</th>\n",
       "      <td>97522e57-d9ab-4bd6-97bf-c24d952602d2</td>\n",
       "      <td>interested</td>\n",
       "      <td>23/8/20 12:25</td>\n",
       "      <td>photo</td>\n",
       "      <td>studying</td>\n",
       "      <td>positive</td>\n",
       "      <td>30</td>\n",
       "    </tr>\n",
       "    <tr>\n",
       "      <th>...</th>\n",
       "      <td>...</td>\n",
       "      <td>...</td>\n",
       "      <td>...</td>\n",
       "      <td>...</td>\n",
       "      <td>...</td>\n",
       "      <td>...</td>\n",
       "      <td>...</td>\n",
       "    </tr>\n",
       "    <tr>\n",
       "      <th>24568</th>\n",
       "      <td>75d6b589-7fae-4a6d-b0d0-752845150e56</td>\n",
       "      <td>dislike</td>\n",
       "      <td>27/6/20 9:46</td>\n",
       "      <td>audio</td>\n",
       "      <td>technology</td>\n",
       "      <td>negative</td>\n",
       "      <td>10</td>\n",
       "    </tr>\n",
       "    <tr>\n",
       "      <th>24569</th>\n",
       "      <td>75d6b589-7fae-4a6d-b0d0-752845150e56</td>\n",
       "      <td>intrigued</td>\n",
       "      <td>16/2/21 17:17</td>\n",
       "      <td>audio</td>\n",
       "      <td>technology</td>\n",
       "      <td>positive</td>\n",
       "      <td>45</td>\n",
       "    </tr>\n",
       "    <tr>\n",
       "      <th>24570</th>\n",
       "      <td>75d6b589-7fae-4a6d-b0d0-752845150e56</td>\n",
       "      <td>interested</td>\n",
       "      <td>12/9/2020 3:54</td>\n",
       "      <td>audio</td>\n",
       "      <td>technology</td>\n",
       "      <td>positive</td>\n",
       "      <td>30</td>\n",
       "    </tr>\n",
       "    <tr>\n",
       "      <th>24571</th>\n",
       "      <td>75d6b589-7fae-4a6d-b0d0-752845150e56</td>\n",
       "      <td>worried</td>\n",
       "      <td>4/11/2020 20:08</td>\n",
       "      <td>audio</td>\n",
       "      <td>technology</td>\n",
       "      <td>negative</td>\n",
       "      <td>12</td>\n",
       "    </tr>\n",
       "    <tr>\n",
       "      <th>24572</th>\n",
       "      <td>75d6b589-7fae-4a6d-b0d0-752845150e56</td>\n",
       "      <td>cherish</td>\n",
       "      <td>4/1/2021 4:55</td>\n",
       "      <td>audio</td>\n",
       "      <td>technology</td>\n",
       "      <td>positive</td>\n",
       "      <td>70</td>\n",
       "    </tr>\n",
       "  </tbody>\n",
       "</table>\n",
       "<p>24573 rows × 7 columns</p>\n",
       "</div>"
      ],
      "text/plain": [
       "                                 Content ID Reaction Type         Datetime  \\\n",
       "0      97522e57-d9ab-4bd6-97bf-c24d952602d2       disgust   7/11/2020 9:43   \n",
       "1      97522e57-d9ab-4bd6-97bf-c24d952602d2       dislike    17/6/21 12:22   \n",
       "2      97522e57-d9ab-4bd6-97bf-c24d952602d2        scared     18/4/21 5:13   \n",
       "3      97522e57-d9ab-4bd6-97bf-c24d952602d2       disgust   6/1/2021 19:13   \n",
       "4      97522e57-d9ab-4bd6-97bf-c24d952602d2    interested    23/8/20 12:25   \n",
       "...                                     ...           ...              ...   \n",
       "24568  75d6b589-7fae-4a6d-b0d0-752845150e56       dislike     27/6/20 9:46   \n",
       "24569  75d6b589-7fae-4a6d-b0d0-752845150e56     intrigued    16/2/21 17:17   \n",
       "24570  75d6b589-7fae-4a6d-b0d0-752845150e56    interested   12/9/2020 3:54   \n",
       "24571  75d6b589-7fae-4a6d-b0d0-752845150e56       worried  4/11/2020 20:08   \n",
       "24572  75d6b589-7fae-4a6d-b0d0-752845150e56       cherish    4/1/2021 4:55   \n",
       "\n",
       "      Content Type    Category Sentiment  Score  \n",
       "0            photo    studying  negative      0  \n",
       "1            photo    studying  negative     10  \n",
       "2            photo    studying  negative     15  \n",
       "3            photo    studying  negative      0  \n",
       "4            photo    studying  positive     30  \n",
       "...            ...         ...       ...    ...  \n",
       "24568        audio  technology  negative     10  \n",
       "24569        audio  technology  positive     45  \n",
       "24570        audio  technology  positive     30  \n",
       "24571        audio  technology  negative     12  \n",
       "24572        audio  technology  positive     70  \n",
       "\n",
       "[24573 rows x 7 columns]"
      ]
     },
     "execution_count": 33,
     "metadata": {},
     "output_type": "execute_result"
    }
   ],
   "source": [
    "content_df=pd.read_csv('cleaned_data.csv')\n",
    "content_df"
   ]
  },
  {
   "cell_type": "code",
   "execution_count": 10,
   "id": "0815b721",
   "metadata": {},
   "outputs": [],
   "source": [
    "project_name = \"socialbuzz-data-analysis\""
   ]
  },
  {
   "cell_type": "code",
   "execution_count": 11,
   "id": "bab18948",
   "metadata": {},
   "outputs": [],
   "source": [
    "# Install and Import Jovian to save progress\n",
    "!pip install jovian --upgrade -q"
   ]
  },
  {
   "cell_type": "code",
   "execution_count": 12,
   "id": "030d56f3",
   "metadata": {},
   "outputs": [],
   "source": [
    "import jovian"
   ]
  },
  {
   "cell_type": "markdown",
   "id": "c1d1f649",
   "metadata": {},
   "source": [
    "Don't forget to save often"
   ]
  },
  {
   "cell_type": "code",
   "execution_count": 34,
   "id": "77d70d5f",
   "metadata": {},
   "outputs": [
    {
     "data": {
      "application/javascript": [
       "window.require && require([\"base/js/namespace\"],function(Jupyter){Jupyter.notebook.save_checkpoint()})"
      ],
      "text/plain": [
       "<IPython.core.display.Javascript object>"
      ]
     },
     "metadata": {},
     "output_type": "display_data"
    },
    {
     "name": "stdout",
     "output_type": "stream",
     "text": [
      "[jovian] Updating notebook \"zaneyhuss/socialbuzz-data-analysis\" on https://jovian.com\u001b[0m\n",
      "[jovian] Committed successfully! https://jovian.com/zaneyhuss/socialbuzz-data-analysis\u001b[0m\n"
     ]
    },
    {
     "data": {
      "text/plain": [
       "'https://jovian.com/zaneyhuss/socialbuzz-data-analysis'"
      ]
     },
     "execution_count": 34,
     "metadata": {},
     "output_type": "execute_result"
    }
   ],
   "source": [
    "jovian.commit(project=project_name)"
   ]
  },
  {
   "cell_type": "markdown",
   "id": "27c7293c",
   "metadata": {},
   "source": [
    "## Data Analysis\n",
    "The data has been cleaned, and modeled in Excel. Now we can analyze.\n",
    "- Download the necessary packages\n",
    "We can make visualizations of the data now\n"
   ]
  },
  {
   "cell_type": "code",
   "execution_count": 35,
   "id": "18396145",
   "metadata": {},
   "outputs": [
    {
     "data": {
      "text/html": [
       "<div>\n",
       "<style scoped>\n",
       "    .dataframe tbody tr th:only-of-type {\n",
       "        vertical-align: middle;\n",
       "    }\n",
       "\n",
       "    .dataframe tbody tr th {\n",
       "        vertical-align: top;\n",
       "    }\n",
       "\n",
       "    .dataframe thead th {\n",
       "        text-align: right;\n",
       "    }\n",
       "</style>\n",
       "<table border=\"1\" class=\"dataframe\">\n",
       "  <thead>\n",
       "    <tr style=\"text-align: right;\">\n",
       "      <th></th>\n",
       "      <th>Content ID</th>\n",
       "      <th>Reaction Type</th>\n",
       "      <th>Datetime</th>\n",
       "      <th>Content Type</th>\n",
       "      <th>Category</th>\n",
       "      <th>Sentiment</th>\n",
       "      <th>Score</th>\n",
       "    </tr>\n",
       "  </thead>\n",
       "  <tbody>\n",
       "    <tr>\n",
       "      <th>0</th>\n",
       "      <td>97522e57-d9ab-4bd6-97bf-c24d952602d2</td>\n",
       "      <td>disgust</td>\n",
       "      <td>7/11/2020 9:43</td>\n",
       "      <td>photo</td>\n",
       "      <td>studying</td>\n",
       "      <td>negative</td>\n",
       "      <td>0</td>\n",
       "    </tr>\n",
       "    <tr>\n",
       "      <th>1</th>\n",
       "      <td>97522e57-d9ab-4bd6-97bf-c24d952602d2</td>\n",
       "      <td>dislike</td>\n",
       "      <td>17/6/21 12:22</td>\n",
       "      <td>photo</td>\n",
       "      <td>studying</td>\n",
       "      <td>negative</td>\n",
       "      <td>10</td>\n",
       "    </tr>\n",
       "    <tr>\n",
       "      <th>2</th>\n",
       "      <td>97522e57-d9ab-4bd6-97bf-c24d952602d2</td>\n",
       "      <td>scared</td>\n",
       "      <td>18/4/21 5:13</td>\n",
       "      <td>photo</td>\n",
       "      <td>studying</td>\n",
       "      <td>negative</td>\n",
       "      <td>15</td>\n",
       "    </tr>\n",
       "    <tr>\n",
       "      <th>3</th>\n",
       "      <td>97522e57-d9ab-4bd6-97bf-c24d952602d2</td>\n",
       "      <td>disgust</td>\n",
       "      <td>6/1/2021 19:13</td>\n",
       "      <td>photo</td>\n",
       "      <td>studying</td>\n",
       "      <td>negative</td>\n",
       "      <td>0</td>\n",
       "    </tr>\n",
       "    <tr>\n",
       "      <th>4</th>\n",
       "      <td>97522e57-d9ab-4bd6-97bf-c24d952602d2</td>\n",
       "      <td>interested</td>\n",
       "      <td>23/8/20 12:25</td>\n",
       "      <td>photo</td>\n",
       "      <td>studying</td>\n",
       "      <td>positive</td>\n",
       "      <td>30</td>\n",
       "    </tr>\n",
       "    <tr>\n",
       "      <th>...</th>\n",
       "      <td>...</td>\n",
       "      <td>...</td>\n",
       "      <td>...</td>\n",
       "      <td>...</td>\n",
       "      <td>...</td>\n",
       "      <td>...</td>\n",
       "      <td>...</td>\n",
       "    </tr>\n",
       "    <tr>\n",
       "      <th>24568</th>\n",
       "      <td>75d6b589-7fae-4a6d-b0d0-752845150e56</td>\n",
       "      <td>dislike</td>\n",
       "      <td>27/6/20 9:46</td>\n",
       "      <td>audio</td>\n",
       "      <td>technology</td>\n",
       "      <td>negative</td>\n",
       "      <td>10</td>\n",
       "    </tr>\n",
       "    <tr>\n",
       "      <th>24569</th>\n",
       "      <td>75d6b589-7fae-4a6d-b0d0-752845150e56</td>\n",
       "      <td>intrigued</td>\n",
       "      <td>16/2/21 17:17</td>\n",
       "      <td>audio</td>\n",
       "      <td>technology</td>\n",
       "      <td>positive</td>\n",
       "      <td>45</td>\n",
       "    </tr>\n",
       "    <tr>\n",
       "      <th>24570</th>\n",
       "      <td>75d6b589-7fae-4a6d-b0d0-752845150e56</td>\n",
       "      <td>interested</td>\n",
       "      <td>12/9/2020 3:54</td>\n",
       "      <td>audio</td>\n",
       "      <td>technology</td>\n",
       "      <td>positive</td>\n",
       "      <td>30</td>\n",
       "    </tr>\n",
       "    <tr>\n",
       "      <th>24571</th>\n",
       "      <td>75d6b589-7fae-4a6d-b0d0-752845150e56</td>\n",
       "      <td>worried</td>\n",
       "      <td>4/11/2020 20:08</td>\n",
       "      <td>audio</td>\n",
       "      <td>technology</td>\n",
       "      <td>negative</td>\n",
       "      <td>12</td>\n",
       "    </tr>\n",
       "    <tr>\n",
       "      <th>24572</th>\n",
       "      <td>75d6b589-7fae-4a6d-b0d0-752845150e56</td>\n",
       "      <td>cherish</td>\n",
       "      <td>4/1/2021 4:55</td>\n",
       "      <td>audio</td>\n",
       "      <td>technology</td>\n",
       "      <td>positive</td>\n",
       "      <td>70</td>\n",
       "    </tr>\n",
       "  </tbody>\n",
       "</table>\n",
       "<p>24573 rows × 7 columns</p>\n",
       "</div>"
      ],
      "text/plain": [
       "                                 Content ID Reaction Type         Datetime  \\\n",
       "0      97522e57-d9ab-4bd6-97bf-c24d952602d2       disgust   7/11/2020 9:43   \n",
       "1      97522e57-d9ab-4bd6-97bf-c24d952602d2       dislike    17/6/21 12:22   \n",
       "2      97522e57-d9ab-4bd6-97bf-c24d952602d2        scared     18/4/21 5:13   \n",
       "3      97522e57-d9ab-4bd6-97bf-c24d952602d2       disgust   6/1/2021 19:13   \n",
       "4      97522e57-d9ab-4bd6-97bf-c24d952602d2    interested    23/8/20 12:25   \n",
       "...                                     ...           ...              ...   \n",
       "24568  75d6b589-7fae-4a6d-b0d0-752845150e56       dislike     27/6/20 9:46   \n",
       "24569  75d6b589-7fae-4a6d-b0d0-752845150e56     intrigued    16/2/21 17:17   \n",
       "24570  75d6b589-7fae-4a6d-b0d0-752845150e56    interested   12/9/2020 3:54   \n",
       "24571  75d6b589-7fae-4a6d-b0d0-752845150e56       worried  4/11/2020 20:08   \n",
       "24572  75d6b589-7fae-4a6d-b0d0-752845150e56       cherish    4/1/2021 4:55   \n",
       "\n",
       "      Content Type    Category Sentiment  Score  \n",
       "0            photo    studying  negative      0  \n",
       "1            photo    studying  negative     10  \n",
       "2            photo    studying  negative     15  \n",
       "3            photo    studying  negative      0  \n",
       "4            photo    studying  positive     30  \n",
       "...            ...         ...       ...    ...  \n",
       "24568        audio  technology  negative     10  \n",
       "24569        audio  technology  positive     45  \n",
       "24570        audio  technology  positive     30  \n",
       "24571        audio  technology  negative     12  \n",
       "24572        audio  technology  positive     70  \n",
       "\n",
       "[24573 rows x 7 columns]"
      ]
     },
     "execution_count": 35,
     "metadata": {},
     "output_type": "execute_result"
    }
   ],
   "source": [
    "content_df"
   ]
  },
  {
   "cell_type": "markdown",
   "id": "52779b1f",
   "metadata": {},
   "source": [
    "Let's explore the quick facts from this dataset"
   ]
  },
  {
   "cell_type": "code",
   "execution_count": 36,
   "id": "6c046fb1",
   "metadata": {},
   "outputs": [
    {
     "data": {
      "text/plain": [
       "(24573, 7)"
      ]
     },
     "execution_count": 36,
     "metadata": {},
     "output_type": "execute_result"
    }
   ],
   "source": [
    "content_df.shape"
   ]
  },
  {
   "cell_type": "code",
   "execution_count": 38,
   "id": "8e815eb5",
   "metadata": {},
   "outputs": [
    {
     "data": {
      "text/plain": [
       "Index(['Content ID', 'Reaction Type', 'Datetime', 'Content Type', 'Category',\n",
       "       'Sentiment', 'Score'],\n",
       "      dtype='object')"
      ]
     },
     "execution_count": 38,
     "metadata": {},
     "output_type": "execute_result"
    }
   ],
   "source": [
    "content_df.columns"
   ]
  },
  {
   "cell_type": "code",
   "execution_count": 39,
   "id": "886d9d2a",
   "metadata": {},
   "outputs": [
    {
     "data": {
      "text/plain": [
       "pandas.core.frame.DataFrame"
      ]
     },
     "execution_count": 39,
     "metadata": {},
     "output_type": "execute_result"
    }
   ],
   "source": [
    "type(content_df)"
   ]
  },
  {
   "cell_type": "code",
   "execution_count": 40,
   "id": "1529d1e3",
   "metadata": {},
   "outputs": [
    {
     "data": {
      "text/html": [
       "<div>\n",
       "<style scoped>\n",
       "    .dataframe tbody tr th:only-of-type {\n",
       "        vertical-align: middle;\n",
       "    }\n",
       "\n",
       "    .dataframe tbody tr th {\n",
       "        vertical-align: top;\n",
       "    }\n",
       "\n",
       "    .dataframe thead th {\n",
       "        text-align: right;\n",
       "    }\n",
       "</style>\n",
       "<table border=\"1\" class=\"dataframe\">\n",
       "  <thead>\n",
       "    <tr style=\"text-align: right;\">\n",
       "      <th></th>\n",
       "      <th>Score</th>\n",
       "    </tr>\n",
       "  </thead>\n",
       "  <tbody>\n",
       "    <tr>\n",
       "      <th>count</th>\n",
       "      <td>24573.000000</td>\n",
       "    </tr>\n",
       "    <tr>\n",
       "      <th>mean</th>\n",
       "      <td>39.622553</td>\n",
       "    </tr>\n",
       "    <tr>\n",
       "      <th>std</th>\n",
       "      <td>26.043011</td>\n",
       "    </tr>\n",
       "    <tr>\n",
       "      <th>min</th>\n",
       "      <td>0.000000</td>\n",
       "    </tr>\n",
       "    <tr>\n",
       "      <th>25%</th>\n",
       "      <td>15.000000</td>\n",
       "    </tr>\n",
       "    <tr>\n",
       "      <th>50%</th>\n",
       "      <td>35.000000</td>\n",
       "    </tr>\n",
       "    <tr>\n",
       "      <th>75%</th>\n",
       "      <td>65.000000</td>\n",
       "    </tr>\n",
       "    <tr>\n",
       "      <th>max</th>\n",
       "      <td>75.000000</td>\n",
       "    </tr>\n",
       "  </tbody>\n",
       "</table>\n",
       "</div>"
      ],
      "text/plain": [
       "              Score\n",
       "count  24573.000000\n",
       "mean      39.622553\n",
       "std       26.043011\n",
       "min        0.000000\n",
       "25%       15.000000\n",
       "50%       35.000000\n",
       "75%       65.000000\n",
       "max       75.000000"
      ]
     },
     "execution_count": 40,
     "metadata": {},
     "output_type": "execute_result"
    }
   ],
   "source": [
    "content_df.describe()"
   ]
  },
  {
   "cell_type": "code",
   "execution_count": 42,
   "id": "d430fc15",
   "metadata": {},
   "outputs": [
    {
     "data": {
      "text/html": [
       "<div>\n",
       "<style scoped>\n",
       "    .dataframe tbody tr th:only-of-type {\n",
       "        vertical-align: middle;\n",
       "    }\n",
       "\n",
       "    .dataframe tbody tr th {\n",
       "        vertical-align: top;\n",
       "    }\n",
       "\n",
       "    .dataframe thead th {\n",
       "        text-align: right;\n",
       "    }\n",
       "</style>\n",
       "<table border=\"1\" class=\"dataframe\">\n",
       "  <thead>\n",
       "    <tr style=\"text-align: right;\">\n",
       "      <th></th>\n",
       "      <th>Content ID</th>\n",
       "      <th>Reaction Type</th>\n",
       "      <th>Datetime</th>\n",
       "      <th>Content Type</th>\n",
       "      <th>Category</th>\n",
       "      <th>Sentiment</th>\n",
       "      <th>Score</th>\n",
       "    </tr>\n",
       "  </thead>\n",
       "  <tbody>\n",
       "    <tr>\n",
       "      <th>0</th>\n",
       "      <td>97522e57-d9ab-4bd6-97bf-c24d952602d2</td>\n",
       "      <td>disgust</td>\n",
       "      <td>7/11/2020 9:43</td>\n",
       "      <td>photo</td>\n",
       "      <td>studying</td>\n",
       "      <td>negative</td>\n",
       "      <td>0</td>\n",
       "    </tr>\n",
       "    <tr>\n",
       "      <th>1</th>\n",
       "      <td>97522e57-d9ab-4bd6-97bf-c24d952602d2</td>\n",
       "      <td>dislike</td>\n",
       "      <td>17/6/21 12:22</td>\n",
       "      <td>photo</td>\n",
       "      <td>studying</td>\n",
       "      <td>negative</td>\n",
       "      <td>10</td>\n",
       "    </tr>\n",
       "    <tr>\n",
       "      <th>2</th>\n",
       "      <td>97522e57-d9ab-4bd6-97bf-c24d952602d2</td>\n",
       "      <td>scared</td>\n",
       "      <td>18/4/21 5:13</td>\n",
       "      <td>photo</td>\n",
       "      <td>studying</td>\n",
       "      <td>negative</td>\n",
       "      <td>15</td>\n",
       "    </tr>\n",
       "    <tr>\n",
       "      <th>3</th>\n",
       "      <td>97522e57-d9ab-4bd6-97bf-c24d952602d2</td>\n",
       "      <td>disgust</td>\n",
       "      <td>6/1/2021 19:13</td>\n",
       "      <td>photo</td>\n",
       "      <td>studying</td>\n",
       "      <td>negative</td>\n",
       "      <td>0</td>\n",
       "    </tr>\n",
       "    <tr>\n",
       "      <th>4</th>\n",
       "      <td>97522e57-d9ab-4bd6-97bf-c24d952602d2</td>\n",
       "      <td>interested</td>\n",
       "      <td>23/8/20 12:25</td>\n",
       "      <td>photo</td>\n",
       "      <td>studying</td>\n",
       "      <td>positive</td>\n",
       "      <td>30</td>\n",
       "    </tr>\n",
       "    <tr>\n",
       "      <th>5</th>\n",
       "      <td>97522e57-d9ab-4bd6-97bf-c24d952602d2</td>\n",
       "      <td>peeking</td>\n",
       "      <td>7/12/2020 6:27</td>\n",
       "      <td>photo</td>\n",
       "      <td>studying</td>\n",
       "      <td>neutral</td>\n",
       "      <td>35</td>\n",
       "    </tr>\n",
       "    <tr>\n",
       "      <th>6</th>\n",
       "      <td>97522e57-d9ab-4bd6-97bf-c24d952602d2</td>\n",
       "      <td>cherish</td>\n",
       "      <td>11/4/2021 17:35</td>\n",
       "      <td>photo</td>\n",
       "      <td>studying</td>\n",
       "      <td>positive</td>\n",
       "      <td>70</td>\n",
       "    </tr>\n",
       "    <tr>\n",
       "      <th>7</th>\n",
       "      <td>97522e57-d9ab-4bd6-97bf-c24d952602d2</td>\n",
       "      <td>hate</td>\n",
       "      <td>27/1/21 8:32</td>\n",
       "      <td>photo</td>\n",
       "      <td>studying</td>\n",
       "      <td>negative</td>\n",
       "      <td>5</td>\n",
       "    </tr>\n",
       "    <tr>\n",
       "      <th>8</th>\n",
       "      <td>97522e57-d9ab-4bd6-97bf-c24d952602d2</td>\n",
       "      <td>peeking</td>\n",
       "      <td>1/4/2021 22:54</td>\n",
       "      <td>photo</td>\n",
       "      <td>studying</td>\n",
       "      <td>neutral</td>\n",
       "      <td>35</td>\n",
       "    </tr>\n",
       "    <tr>\n",
       "      <th>9</th>\n",
       "      <td>97522e57-d9ab-4bd6-97bf-c24d952602d2</td>\n",
       "      <td>love</td>\n",
       "      <td>4/8/2020 5:05</td>\n",
       "      <td>photo</td>\n",
       "      <td>studying</td>\n",
       "      <td>positive</td>\n",
       "      <td>65</td>\n",
       "    </tr>\n",
       "  </tbody>\n",
       "</table>\n",
       "</div>"
      ],
      "text/plain": [
       "                             Content ID Reaction Type         Datetime  \\\n",
       "0  97522e57-d9ab-4bd6-97bf-c24d952602d2       disgust   7/11/2020 9:43   \n",
       "1  97522e57-d9ab-4bd6-97bf-c24d952602d2       dislike    17/6/21 12:22   \n",
       "2  97522e57-d9ab-4bd6-97bf-c24d952602d2        scared     18/4/21 5:13   \n",
       "3  97522e57-d9ab-4bd6-97bf-c24d952602d2       disgust   6/1/2021 19:13   \n",
       "4  97522e57-d9ab-4bd6-97bf-c24d952602d2    interested    23/8/20 12:25   \n",
       "5  97522e57-d9ab-4bd6-97bf-c24d952602d2       peeking   7/12/2020 6:27   \n",
       "6  97522e57-d9ab-4bd6-97bf-c24d952602d2       cherish  11/4/2021 17:35   \n",
       "7  97522e57-d9ab-4bd6-97bf-c24d952602d2          hate     27/1/21 8:32   \n",
       "8  97522e57-d9ab-4bd6-97bf-c24d952602d2       peeking   1/4/2021 22:54   \n",
       "9  97522e57-d9ab-4bd6-97bf-c24d952602d2          love    4/8/2020 5:05   \n",
       "\n",
       "  Content Type  Category Sentiment  Score  \n",
       "0        photo  studying  negative      0  \n",
       "1        photo  studying  negative     10  \n",
       "2        photo  studying  negative     15  \n",
       "3        photo  studying  negative      0  \n",
       "4        photo  studying  positive     30  \n",
       "5        photo  studying   neutral     35  \n",
       "6        photo  studying  positive     70  \n",
       "7        photo  studying  negative      5  \n",
       "8        photo  studying   neutral     35  \n",
       "9        photo  studying  positive     65  "
      ]
     },
     "execution_count": 42,
     "metadata": {},
     "output_type": "execute_result"
    }
   ],
   "source": [
    "#Get a snapshot of the data\n",
    "content_df.head(10)"
   ]
  },
  {
   "cell_type": "code",
   "execution_count": 43,
   "id": "d0de5f28",
   "metadata": {},
   "outputs": [],
   "source": [
    "# Format the dates\n",
    "content_df['Datetime'] = pd.to_datetime(content_df['Datetime'])"
   ]
  },
  {
   "cell_type": "code",
   "execution_count": 44,
   "id": "b92948d4",
   "metadata": {},
   "outputs": [
    {
     "data": {
      "text/html": [
       "<div>\n",
       "<style scoped>\n",
       "    .dataframe tbody tr th:only-of-type {\n",
       "        vertical-align: middle;\n",
       "    }\n",
       "\n",
       "    .dataframe tbody tr th {\n",
       "        vertical-align: top;\n",
       "    }\n",
       "\n",
       "    .dataframe thead th {\n",
       "        text-align: right;\n",
       "    }\n",
       "</style>\n",
       "<table border=\"1\" class=\"dataframe\">\n",
       "  <thead>\n",
       "    <tr style=\"text-align: right;\">\n",
       "      <th></th>\n",
       "      <th>Content ID</th>\n",
       "      <th>Reaction Type</th>\n",
       "      <th>Datetime</th>\n",
       "      <th>Content Type</th>\n",
       "      <th>Category</th>\n",
       "      <th>Sentiment</th>\n",
       "      <th>Score</th>\n",
       "    </tr>\n",
       "  </thead>\n",
       "  <tbody>\n",
       "    <tr>\n",
       "      <th>0</th>\n",
       "      <td>97522e57-d9ab-4bd6-97bf-c24d952602d2</td>\n",
       "      <td>disgust</td>\n",
       "      <td>2020-07-11 09:43:00</td>\n",
       "      <td>photo</td>\n",
       "      <td>studying</td>\n",
       "      <td>negative</td>\n",
       "      <td>0</td>\n",
       "    </tr>\n",
       "    <tr>\n",
       "      <th>1</th>\n",
       "      <td>97522e57-d9ab-4bd6-97bf-c24d952602d2</td>\n",
       "      <td>dislike</td>\n",
       "      <td>2021-06-17 12:22:00</td>\n",
       "      <td>photo</td>\n",
       "      <td>studying</td>\n",
       "      <td>negative</td>\n",
       "      <td>10</td>\n",
       "    </tr>\n",
       "    <tr>\n",
       "      <th>2</th>\n",
       "      <td>97522e57-d9ab-4bd6-97bf-c24d952602d2</td>\n",
       "      <td>scared</td>\n",
       "      <td>2021-04-18 05:13:00</td>\n",
       "      <td>photo</td>\n",
       "      <td>studying</td>\n",
       "      <td>negative</td>\n",
       "      <td>15</td>\n",
       "    </tr>\n",
       "    <tr>\n",
       "      <th>3</th>\n",
       "      <td>97522e57-d9ab-4bd6-97bf-c24d952602d2</td>\n",
       "      <td>disgust</td>\n",
       "      <td>2021-06-01 19:13:00</td>\n",
       "      <td>photo</td>\n",
       "      <td>studying</td>\n",
       "      <td>negative</td>\n",
       "      <td>0</td>\n",
       "    </tr>\n",
       "    <tr>\n",
       "      <th>4</th>\n",
       "      <td>97522e57-d9ab-4bd6-97bf-c24d952602d2</td>\n",
       "      <td>interested</td>\n",
       "      <td>2020-08-23 12:25:00</td>\n",
       "      <td>photo</td>\n",
       "      <td>studying</td>\n",
       "      <td>positive</td>\n",
       "      <td>30</td>\n",
       "    </tr>\n",
       "    <tr>\n",
       "      <th>...</th>\n",
       "      <td>...</td>\n",
       "      <td>...</td>\n",
       "      <td>...</td>\n",
       "      <td>...</td>\n",
       "      <td>...</td>\n",
       "      <td>...</td>\n",
       "      <td>...</td>\n",
       "    </tr>\n",
       "    <tr>\n",
       "      <th>24568</th>\n",
       "      <td>75d6b589-7fae-4a6d-b0d0-752845150e56</td>\n",
       "      <td>dislike</td>\n",
       "      <td>2020-06-27 09:46:00</td>\n",
       "      <td>audio</td>\n",
       "      <td>technology</td>\n",
       "      <td>negative</td>\n",
       "      <td>10</td>\n",
       "    </tr>\n",
       "    <tr>\n",
       "      <th>24569</th>\n",
       "      <td>75d6b589-7fae-4a6d-b0d0-752845150e56</td>\n",
       "      <td>intrigued</td>\n",
       "      <td>2021-02-16 17:17:00</td>\n",
       "      <td>audio</td>\n",
       "      <td>technology</td>\n",
       "      <td>positive</td>\n",
       "      <td>45</td>\n",
       "    </tr>\n",
       "    <tr>\n",
       "      <th>24570</th>\n",
       "      <td>75d6b589-7fae-4a6d-b0d0-752845150e56</td>\n",
       "      <td>interested</td>\n",
       "      <td>2020-12-09 03:54:00</td>\n",
       "      <td>audio</td>\n",
       "      <td>technology</td>\n",
       "      <td>positive</td>\n",
       "      <td>30</td>\n",
       "    </tr>\n",
       "    <tr>\n",
       "      <th>24571</th>\n",
       "      <td>75d6b589-7fae-4a6d-b0d0-752845150e56</td>\n",
       "      <td>worried</td>\n",
       "      <td>2020-04-11 20:08:00</td>\n",
       "      <td>audio</td>\n",
       "      <td>technology</td>\n",
       "      <td>negative</td>\n",
       "      <td>12</td>\n",
       "    </tr>\n",
       "    <tr>\n",
       "      <th>24572</th>\n",
       "      <td>75d6b589-7fae-4a6d-b0d0-752845150e56</td>\n",
       "      <td>cherish</td>\n",
       "      <td>2021-04-01 04:55:00</td>\n",
       "      <td>audio</td>\n",
       "      <td>technology</td>\n",
       "      <td>positive</td>\n",
       "      <td>70</td>\n",
       "    </tr>\n",
       "  </tbody>\n",
       "</table>\n",
       "<p>24573 rows × 7 columns</p>\n",
       "</div>"
      ],
      "text/plain": [
       "                                 Content ID Reaction Type            Datetime  \\\n",
       "0      97522e57-d9ab-4bd6-97bf-c24d952602d2       disgust 2020-07-11 09:43:00   \n",
       "1      97522e57-d9ab-4bd6-97bf-c24d952602d2       dislike 2021-06-17 12:22:00   \n",
       "2      97522e57-d9ab-4bd6-97bf-c24d952602d2        scared 2021-04-18 05:13:00   \n",
       "3      97522e57-d9ab-4bd6-97bf-c24d952602d2       disgust 2021-06-01 19:13:00   \n",
       "4      97522e57-d9ab-4bd6-97bf-c24d952602d2    interested 2020-08-23 12:25:00   \n",
       "...                                     ...           ...                 ...   \n",
       "24568  75d6b589-7fae-4a6d-b0d0-752845150e56       dislike 2020-06-27 09:46:00   \n",
       "24569  75d6b589-7fae-4a6d-b0d0-752845150e56     intrigued 2021-02-16 17:17:00   \n",
       "24570  75d6b589-7fae-4a6d-b0d0-752845150e56    interested 2020-12-09 03:54:00   \n",
       "24571  75d6b589-7fae-4a6d-b0d0-752845150e56       worried 2020-04-11 20:08:00   \n",
       "24572  75d6b589-7fae-4a6d-b0d0-752845150e56       cherish 2021-04-01 04:55:00   \n",
       "\n",
       "      Content Type    Category Sentiment  Score  \n",
       "0            photo    studying  negative      0  \n",
       "1            photo    studying  negative     10  \n",
       "2            photo    studying  negative     15  \n",
       "3            photo    studying  negative      0  \n",
       "4            photo    studying  positive     30  \n",
       "...            ...         ...       ...    ...  \n",
       "24568        audio  technology  negative     10  \n",
       "24569        audio  technology  positive     45  \n",
       "24570        audio  technology  positive     30  \n",
       "24571        audio  technology  negative     12  \n",
       "24572        audio  technology  positive     70  \n",
       "\n",
       "[24573 rows x 7 columns]"
      ]
     },
     "execution_count": 44,
     "metadata": {},
     "output_type": "execute_result"
    }
   ],
   "source": [
    "content_df"
   ]
  },
  {
   "cell_type": "markdown",
   "id": "9d753138",
   "metadata": {},
   "source": [
    "The data is cleaned, modeled, extracted and formatted. \n",
    "We can begin working on the key points."
   ]
  },
  {
   "cell_type": "code",
   "execution_count": null,
   "id": "d0e64ab9",
   "metadata": {},
   "outputs": [],
   "source": []
  },
  {
   "cell_type": "markdown",
   "id": "6697a857",
   "metadata": {},
   "source": [
    "## Key Point\n",
    "- An analysis of their content categories that highlights the top 5 categories with the largest aggregate popularity"
   ]
  },
  {
   "cell_type": "code",
   "execution_count": 45,
   "id": "a514ee6c",
   "metadata": {},
   "outputs": [],
   "source": [
    "cat_total = content_df.groupby('Category')[['Score']].sum()"
   ]
  },
  {
   "cell_type": "code",
   "execution_count": 46,
   "id": "a5c4fc92",
   "metadata": {},
   "outputs": [
    {
     "data": {
      "text/html": [
       "<div>\n",
       "<style scoped>\n",
       "    .dataframe tbody tr th:only-of-type {\n",
       "        vertical-align: middle;\n",
       "    }\n",
       "\n",
       "    .dataframe tbody tr th {\n",
       "        vertical-align: top;\n",
       "    }\n",
       "\n",
       "    .dataframe thead th {\n",
       "        text-align: right;\n",
       "    }\n",
       "</style>\n",
       "<table border=\"1\" class=\"dataframe\">\n",
       "  <thead>\n",
       "    <tr style=\"text-align: right;\">\n",
       "      <th></th>\n",
       "      <th>Score</th>\n",
       "    </tr>\n",
       "    <tr>\n",
       "      <th>Category</th>\n",
       "      <th></th>\n",
       "    </tr>\n",
       "  </thead>\n",
       "  <tbody>\n",
       "    <tr>\n",
       "      <th>animals</th>\n",
       "      <td>74965</td>\n",
       "    </tr>\n",
       "    <tr>\n",
       "      <th>cooking</th>\n",
       "      <td>64756</td>\n",
       "    </tr>\n",
       "    <tr>\n",
       "      <th>culture</th>\n",
       "      <td>66579</td>\n",
       "    </tr>\n",
       "    <tr>\n",
       "      <th>dogs</th>\n",
       "      <td>52511</td>\n",
       "    </tr>\n",
       "    <tr>\n",
       "      <th>education</th>\n",
       "      <td>57436</td>\n",
       "    </tr>\n",
       "    <tr>\n",
       "      <th>fitness</th>\n",
       "      <td>55323</td>\n",
       "    </tr>\n",
       "    <tr>\n",
       "      <th>food</th>\n",
       "      <td>66676</td>\n",
       "    </tr>\n",
       "    <tr>\n",
       "      <th>healthy eating</th>\n",
       "      <td>69339</td>\n",
       "    </tr>\n",
       "    <tr>\n",
       "      <th>public speaking</th>\n",
       "      <td>49264</td>\n",
       "    </tr>\n",
       "    <tr>\n",
       "      <th>science</th>\n",
       "      <td>71168</td>\n",
       "    </tr>\n",
       "    <tr>\n",
       "      <th>soccer</th>\n",
       "      <td>57783</td>\n",
       "    </tr>\n",
       "    <tr>\n",
       "      <th>studying</th>\n",
       "      <td>54269</td>\n",
       "    </tr>\n",
       "    <tr>\n",
       "      <th>technology</th>\n",
       "      <td>68738</td>\n",
       "    </tr>\n",
       "    <tr>\n",
       "      <th>tennis</th>\n",
       "      <td>50339</td>\n",
       "    </tr>\n",
       "    <tr>\n",
       "      <th>travel</th>\n",
       "      <td>64880</td>\n",
       "    </tr>\n",
       "    <tr>\n",
       "      <th>veganism</th>\n",
       "      <td>49619</td>\n",
       "    </tr>\n",
       "  </tbody>\n",
       "</table>\n",
       "</div>"
      ],
      "text/plain": [
       "                 Score\n",
       "Category              \n",
       "animals          74965\n",
       "cooking          64756\n",
       "culture          66579\n",
       "dogs             52511\n",
       "education        57436\n",
       "fitness          55323\n",
       "food             66676\n",
       "healthy eating   69339\n",
       "public speaking  49264\n",
       "science          71168\n",
       "soccer           57783\n",
       "studying         54269\n",
       "technology       68738\n",
       "tennis           50339\n",
       "travel           64880\n",
       "veganism         49619"
      ]
     },
     "execution_count": 46,
     "metadata": {},
     "output_type": "execute_result"
    }
   ],
   "source": [
    "cat_total"
   ]
  },
  {
   "cell_type": "markdown",
   "id": "4fd8e20d",
   "metadata": {},
   "source": [
    "Now I'll extract the top five categories by score."
   ]
  },
  {
   "cell_type": "code",
   "execution_count": 52,
   "id": "bf75a091",
   "metadata": {},
   "outputs": [],
   "source": [
    "top_cat = cat_total.sort_values('Score', ascending=False).head(5)"
   ]
  },
  {
   "cell_type": "code",
   "execution_count": 53,
   "id": "3002a404",
   "metadata": {},
   "outputs": [
    {
     "data": {
      "text/html": [
       "<div>\n",
       "<style scoped>\n",
       "    .dataframe tbody tr th:only-of-type {\n",
       "        vertical-align: middle;\n",
       "    }\n",
       "\n",
       "    .dataframe tbody tr th {\n",
       "        vertical-align: top;\n",
       "    }\n",
       "\n",
       "    .dataframe thead th {\n",
       "        text-align: right;\n",
       "    }\n",
       "</style>\n",
       "<table border=\"1\" class=\"dataframe\">\n",
       "  <thead>\n",
       "    <tr style=\"text-align: right;\">\n",
       "      <th></th>\n",
       "      <th>Score</th>\n",
       "    </tr>\n",
       "    <tr>\n",
       "      <th>Category</th>\n",
       "      <th></th>\n",
       "    </tr>\n",
       "  </thead>\n",
       "  <tbody>\n",
       "    <tr>\n",
       "      <th>animals</th>\n",
       "      <td>74965</td>\n",
       "    </tr>\n",
       "    <tr>\n",
       "      <th>science</th>\n",
       "      <td>71168</td>\n",
       "    </tr>\n",
       "    <tr>\n",
       "      <th>healthy eating</th>\n",
       "      <td>69339</td>\n",
       "    </tr>\n",
       "    <tr>\n",
       "      <th>technology</th>\n",
       "      <td>68738</td>\n",
       "    </tr>\n",
       "    <tr>\n",
       "      <th>food</th>\n",
       "      <td>66676</td>\n",
       "    </tr>\n",
       "  </tbody>\n",
       "</table>\n",
       "</div>"
      ],
      "text/plain": [
       "                Score\n",
       "Category             \n",
       "animals         74965\n",
       "science         71168\n",
       "healthy eating  69339\n",
       "technology      68738\n",
       "food            66676"
      ]
     },
     "execution_count": 53,
     "metadata": {},
     "output_type": "execute_result"
    }
   ],
   "source": [
    "top_cat"
   ]
  },
  {
   "cell_type": "markdown",
   "id": "535b4466",
   "metadata": {},
   "source": [
    "The top categories are: animals, science, healthy eating, technology, and food."
   ]
  },
  {
   "cell_type": "markdown",
   "id": "8f7b735a",
   "metadata": {},
   "source": [
    "The aggregate popularity score for Animals is 74,965. Food and healthy eating are both in the top, users are highly engaged with food related content. \n",
    "Science and technology can tell us user's are interested in learning with the content they engage with, more fact based content. "
   ]
  },
  {
   "cell_type": "code",
   "execution_count": 54,
   "id": "132732e5",
   "metadata": {},
   "outputs": [
    {
     "data": {
      "application/javascript": [
       "window.require && require([\"base/js/namespace\"],function(Jupyter){Jupyter.notebook.save_checkpoint()})"
      ],
      "text/plain": [
       "<IPython.core.display.Javascript object>"
      ]
     },
     "metadata": {},
     "output_type": "display_data"
    },
    {
     "name": "stdout",
     "output_type": "stream",
     "text": [
      "[jovian] Updating notebook \"zaneyhuss/socialbuzz-data-analysis\" on https://jovian.com\u001b[0m\n",
      "[jovian] Committed successfully! https://jovian.com/zaneyhuss/socialbuzz-data-analysis\u001b[0m\n"
     ]
    },
    {
     "data": {
      "text/plain": [
       "'https://jovian.com/zaneyhuss/socialbuzz-data-analysis'"
      ]
     },
     "execution_count": 54,
     "metadata": {},
     "output_type": "execute_result"
    }
   ],
   "source": [
    "jovian.commit()"
   ]
  },
  {
   "cell_type": "code",
   "execution_count": 55,
   "id": "71b6ccd9",
   "metadata": {},
   "outputs": [],
   "source": [
    "# Import matplot and seaborn to create visualizations of our data\n",
    "import seaborn as sns\n",
    "import requests\n",
    "import matplotlib as mpl\n",
    "import numpy as np\n",
    "\n",
    "\n",
    "import matplotlib\n",
    "import matplotlib.pyplot as plt\n",
    "%matplotlib inline\n",
    "\n",
    "sns.set_style('darkgrid')\n",
    "matplotlib.rcParams['font.size'] = 14\n",
    "matplotlib.rcParams['figure.figsize'] = (9, 5)\n",
    "matplotlib.rcParams['figure.facecolor'] = '#00000000'"
   ]
  },
  {
   "cell_type": "code",
   "execution_count": 57,
   "id": "30f4bee7",
   "metadata": {},
   "outputs": [
    {
     "data": {
      "text/plain": [
       "Text(0.5, 1.0, 'Top Categories by Popularity Aggregate Score')"
      ]
     },
     "execution_count": 57,
     "metadata": {},
     "output_type": "execute_result"
    },
    {
     "data": {
      "image/png": "[encoded data removed]",
      "text/plain": [
       "<Figure size 1440x648 with 1 Axes>"
      ]
     },
     "metadata": {
      "needs_background": "light"
     },
     "output_type": "display_data"
    }
   ],
   "source": [
    "plt.figure(figsize=(20,9))\n",
    "plt.plot(top_cat)\n",
    "\n",
    "plt.title(\"Top Categories by Popularity Aggregate Score\")"
   ]
  },
  {
   "cell_type": "code",
   "execution_count": 59,
   "id": "1d943368",
   "metadata": {},
   "outputs": [
    {
     "data": {
      "application/javascript": [
       "window.require && require([\"base/js/namespace\"],function(Jupyter){Jupyter.notebook.save_checkpoint()})"
      ],
      "text/plain": [
       "<IPython.core.display.Javascript object>"
      ]
     },
     "metadata": {},
     "output_type": "display_data"
    },
    {
     "name": "stdout",
     "output_type": "stream",
     "text": [
      "[jovian] Updating notebook \"zaneyhuss/socialbuzz-data-analysis\" on https://jovian.com\u001b[0m\n",
      "[jovian] Committed successfully! https://jovian.com/zaneyhuss/socialbuzz-data-analysis\u001b[0m\n"
     ]
    },
    {
     "data": {
      "text/plain": [
       "'https://jovian.com/zaneyhuss/socialbuzz-data-analysis'"
      ]
     },
     "execution_count": 59,
     "metadata": {},
     "output_type": "execute_result"
    }
   ],
   "source": [
    "jovian.commit()"
   ]
  },
  {
   "cell_type": "markdown",
   "id": "54dd2b2e",
   "metadata": {},
   "source": [
    "## Conclusion and Inferences "
   ]
  },
  {
   "cell_type": "markdown",
   "id": "fd983867",
   "metadata": {},
   "source": []
  },
  {
   "cell_type": "markdown",
   "id": "98271738",
   "metadata": {},
   "source": [
    "## References and Future Work "
   ]
  },
  {
   "cell_type": "markdown",
   "id": "318a94d9",
   "metadata": {},
   "source": [
    "- Kaggle Layoffs Dataset: https://www.kaggle.com/datasets/swaptr/layoffs-2022\n",
    "- Pandas user guide: https://pandas.pydata.org/docs/user_guide/index.html\n",
    "- Matplotlib user guide: https://matplotlib.org/3.3.1/users/index.html\n",
    "- Seaborn user guide & tutorial: https://seaborn.pydata.org/tutorial.html\n",
    "- Github Portfolio: https://github.com/98Kh/98Kh.github.io"
   ]
  },
  {
   "cell_type": "code",
   "execution_count": null,
   "id": "13c36d08",
   "metadata": {},
   "outputs": [],
   "source": []
  }
 ],
 "metadata": {
  "kernelspec": {
   "display_name": "Python 3 (ipykernel)",
   "language": "python",
   "name": "python3"
  },
  "language_info": {
   "codemirror_mode": {
    "name": "ipython",
    "version": 3
   },
   "file_extension": ".py",
   "mimetype": "text/x-python",
   "name": "python",
   "nbconvert_exporter": "python",
   "pygments_lexer": "ipython3",
   "version": "3.9.7"
  }
 },
 "nbformat": 4,
 "nbformat_minor": 5
}
